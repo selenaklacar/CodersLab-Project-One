{
 "cells": [
  {
   "cell_type": "markdown",
   "metadata": {},
   "source": [
    "# Python Test"
   ]
  },
  {
   "cell_type": "markdown",
   "metadata": {},
   "source": [
    "### Instructions"
   ]
  },
  {
   "cell_type": "markdown",
   "metadata": {},
   "source": [
    "Welcome to the CodersLab Python test!\n",
    "\n",
    "The goal of this Python test is to assess your knowledge and skills in fundamental areas of the Python in the domain of data analysis.\n",
    "The test will cover topics such as functions, data structures, loops, conditional expressions, and libraries like Pandas and Matplotlib.\n",
    "This will help evaluate your ability to solve problems (5), manipulate data (4), and visualize information using Python (3).\n",
    "\n",
    "The test consists of 12 tasks, and you should aim to complete it within the given time frame.\n",
    "You are required to use this provided notebook for solving the tasks.\n",
    "It is your responsibility to set up the environment and install all the necessary libraries for the test.\n",
    "For each task, write your solutions in the cells below the task description.\n",
    "\n",
    "Please make sure to save your work as you progress.\n",
    "The completed test should be submitted by Friday, 27.12.2024, at 12:00 PM.\n",
    "You can submit your solution by sending it to Marko Caric via slack or email.\n",
    "\n",
    "\n",
    "Good luck, and make sure to read tasks carefully!"
   ]
  },
  {
   "cell_type": "markdown",
   "metadata": {},
   "source": [
    "### Tasks"
   ]
  },
  {
   "cell_type": "markdown",
   "metadata": {},
   "source": [
    "##### Basic - Python"
   ]
  },
  {
   "cell_type": "markdown",
   "metadata": {},
   "source": [
    "1. Write a function that returns a maximum of 2 arbitrary integers."
   ]
  },
  {
   "cell_type": "code",
   "execution_count": 2,
   "metadata": {},
   "outputs": [
    {
     "name": "stdout",
     "output_type": "stream",
     "text": [
      "7\n"
     ]
    }
   ],
   "source": [
    "# Task 1: Your solution here...\n",
    "\n",
    "def max_of_two(a, b): \n",
    "    return a if a > b else b\n",
    "\n",
    "print(max_of_two(3, 7)) \n",
    "    "
   ]
  },
  {
   "cell_type": "markdown",
   "metadata": {},
   "source": [
    "2. Write a function that takes a list of numbers and returns their average."
   ]
  },
  {
   "cell_type": "code",
   "execution_count": 8,
   "metadata": {},
   "outputs": [
    {
     "name": "stdout",
     "output_type": "stream",
     "text": [
      "25.0\n"
     ]
    }
   ],
   "source": [
    "# Task 2: Your solution here...\n",
    "\n",
    "def calculat_avg(numbers):\n",
    "    if len(numbers) == 0: \n",
    "        return 0 \n",
    "    return sum(numbers)/len(numbers)\n",
    "\n",
    "numbers = [10, 20, 30, 40] \n",
    "\n",
    "print(calculat_avg(numbers))"
   ]
  },
  {
   "cell_type": "markdown",
   "metadata": {},
   "source": [
    "3. Write a function that checks if a given string contains subword `coder` or `lab` and returns appropriate message."
   ]
  },
  {
   "cell_type": "code",
   "execution_count": 10,
   "metadata": {},
   "outputs": [
    {
     "name": "stdout",
     "output_type": "stream",
     "text": [
      "The string contains both 'coder' and 'lab'.\n"
     ]
    }
   ],
   "source": [
    "# Task 3: Your solution here...\n",
    "\n",
    "\n",
    "def check_subwords(string):\n",
    "    if \"coder\" in string and \"lab\" in string:\n",
    "        return \"The string contains both 'coder' and 'lab'.\"\n",
    "    elif \"coder\" in string:\n",
    "        return \"The string contains 'coder'.\"\n",
    "    elif \"lab\" in string:\n",
    "        return \"The string contains 'lab'.\"\n",
    "    else:\n",
    "        return \"The string contains neither 'coder' nor 'lab'.\"\n",
    "\n",
    "\n",
    "print(check_subwords(\"Welcome to the coder's lab!\")) \n",
    "\n",
    "\n",
    "\n",
    "    "
   ]
  },
  {
   "cell_type": "markdown",
   "metadata": {},
   "source": [
    "4. Write a function that takes a list of numbers and returns a dictionary with the count of odd and even values."
   ]
  },
  {
   "cell_type": "code",
   "execution_count": 12,
   "metadata": {},
   "outputs": [
    {
     "name": "stdout",
     "output_type": "stream",
     "text": [
      "{'odd': 3, 'even': 3}\n"
     ]
    }
   ],
   "source": [
    "# Task 4: Your solution here...\n",
    "\n",
    "def count_odd_even(numbers):\n",
    "    result = {\"odd\": 0, \"even\": 0}\n",
    "    for num in numbers:\n",
    "        if num % 2 == 0:\n",
    "            result[\"even\"] += 1\n",
    "        else:\n",
    "            result[\"odd\"] += 1\n",
    "    return result\n",
    "\n",
    "\n",
    "numbers = [1, 2, 3, 4, 5, 6]\n",
    "print(count_odd_even(numbers))  \n"
   ]
  },
  {
   "cell_type": "markdown",
   "metadata": {},
   "source": [
    "5. Write a function that accepts two lists, one containing keys and the other containing corresponding values, and returns a dictionary created by pairing the elements from the two lists."
   ]
  },
  {
   "cell_type": "code",
   "execution_count": 18,
   "metadata": {},
   "outputs": [
    {
     "name": "stdout",
     "output_type": "stream",
     "text": [
      "{'name': 'Selena', 'age': 20, 'state': 'Wisconsin'}\n"
     ]
    }
   ],
   "source": [
    "# Task 5: Your solution here...\n",
    "\n",
    "\n",
    "def create_dict(keys, values):\n",
    "    return dict(zip(keys, values))\n",
    "\n",
    "\n",
    "keys = [\"name\", \"age\", \"state\"]\n",
    "values = [\"Selena\", 20, \"Wisconsin\"]\n",
    "print(create_dict(keys, values))  \n"
   ]
  },
  {
   "cell_type": "markdown",
   "metadata": {},
   "source": [
    "##### Data manipulation - Pandas"
   ]
  },
  {
   "cell_type": "code",
   "execution_count": 24,
   "metadata": {},
   "outputs": [
    {
     "data": {
      "text/html": [
       "<div>\n",
       "<style scoped>\n",
       "    .dataframe tbody tr th:only-of-type {\n",
       "        vertical-align: middle;\n",
       "    }\n",
       "\n",
       "    .dataframe tbody tr th {\n",
       "        vertical-align: top;\n",
       "    }\n",
       "\n",
       "    .dataframe thead th {\n",
       "        text-align: right;\n",
       "    }\n",
       "</style>\n",
       "<table border=\"1\" class=\"dataframe\">\n",
       "  <thead>\n",
       "    <tr style=\"text-align: right;\">\n",
       "      <th></th>\n",
       "      <th>Student</th>\n",
       "      <th>Math</th>\n",
       "      <th>Science</th>\n",
       "      <th>English</th>\n",
       "      <th>History</th>\n",
       "      <th>Art</th>\n",
       "    </tr>\n",
       "  </thead>\n",
       "  <tbody>\n",
       "    <tr>\n",
       "      <th>0</th>\n",
       "      <td>Alice</td>\n",
       "      <td>85</td>\n",
       "      <td>91</td>\n",
       "      <td>88</td>\n",
       "      <td>90</td>\n",
       "      <td>92</td>\n",
       "    </tr>\n",
       "    <tr>\n",
       "      <th>1</th>\n",
       "      <td>Bob</td>\n",
       "      <td>90</td>\n",
       "      <td>85</td>\n",
       "      <td>92</td>\n",
       "      <td>88</td>\n",
       "      <td>79</td>\n",
       "    </tr>\n",
       "    <tr>\n",
       "      <th>2</th>\n",
       "      <td>Charlie</td>\n",
       "      <td>78</td>\n",
       "      <td>80</td>\n",
       "      <td>85</td>\n",
       "      <td>85</td>\n",
       "      <td>84</td>\n",
       "    </tr>\n",
       "    <tr>\n",
       "      <th>3</th>\n",
       "      <td>David</td>\n",
       "      <td>88</td>\n",
       "      <td>94</td>\n",
       "      <td>91</td>\n",
       "      <td>91</td>\n",
       "      <td>87</td>\n",
       "    </tr>\n",
       "    <tr>\n",
       "      <th>4</th>\n",
       "      <td>Eve</td>\n",
       "      <td>92</td>\n",
       "      <td>88</td>\n",
       "      <td>93</td>\n",
       "      <td>95</td>\n",
       "      <td>90</td>\n",
       "    </tr>\n",
       "    <tr>\n",
       "      <th>5</th>\n",
       "      <td>Frank</td>\n",
       "      <td>76</td>\n",
       "      <td>79</td>\n",
       "      <td>78</td>\n",
       "      <td>82</td>\n",
       "      <td>88</td>\n",
       "    </tr>\n",
       "    <tr>\n",
       "      <th>6</th>\n",
       "      <td>Grace</td>\n",
       "      <td>81</td>\n",
       "      <td>87</td>\n",
       "      <td>84</td>\n",
       "      <td>80</td>\n",
       "      <td>92</td>\n",
       "    </tr>\n",
       "    <tr>\n",
       "      <th>7</th>\n",
       "      <td>Helen</td>\n",
       "      <td>95</td>\n",
       "      <td>92</td>\n",
       "      <td>89</td>\n",
       "      <td>87</td>\n",
       "      <td>85</td>\n",
       "    </tr>\n",
       "    <tr>\n",
       "      <th>8</th>\n",
       "      <td>Ian</td>\n",
       "      <td>89</td>\n",
       "      <td>90</td>\n",
       "      <td>86</td>\n",
       "      <td>88</td>\n",
       "      <td>83</td>\n",
       "    </tr>\n",
       "    <tr>\n",
       "      <th>9</th>\n",
       "      <td>Jack</td>\n",
       "      <td>84</td>\n",
       "      <td>83</td>\n",
       "      <td>80</td>\n",
       "      <td>86</td>\n",
       "      <td>90</td>\n",
       "    </tr>\n",
       "  </tbody>\n",
       "</table>\n",
       "</div>"
      ],
      "text/plain": [
       "   Student  Math  Science  English  History  Art\n",
       "0    Alice    85       91       88       90   92\n",
       "1      Bob    90       85       92       88   79\n",
       "2  Charlie    78       80       85       85   84\n",
       "3    David    88       94       91       91   87\n",
       "4      Eve    92       88       93       95   90\n",
       "5    Frank    76       79       78       82   88\n",
       "6    Grace    81       87       84       80   92\n",
       "7    Helen    95       92       89       87   85\n",
       "8      Ian    89       90       86       88   83\n",
       "9     Jack    84       83       80       86   90"
      ]
     },
     "execution_count": 24,
     "metadata": {},
     "output_type": "execute_result"
    }
   ],
   "source": [
    "import pandas as pd\n",
    "\n",
    "data = {\n",
    "    \"Student\": [\"Alice\", \"Bob\", \"Charlie\", \"David\", \"Eve\", \"Frank\", \"Grace\", \"Helen\", \"Ian\", \"Jack\"],\n",
    "    \"Math\": [85, 90, 78, 88, 92, 76, 81, 95, 89, 84],\n",
    "    \"Science\": [91, 85, 80, 94, 88, 79, 87, 92, 90, 83],\n",
    "    \"English\": [88, 92, 85, 91, 93, 78, 84, 89, 86, 80],\n",
    "    \"History\": [90, 88, 85, 91, 95, 82, 80, 87, 88, 86],\n",
    "    \"Art\": [92, 79, 84, 87, 90, 88, 92, 85, 83, 90]\n",
    "}\n",
    "\n",
    "df = pd.DataFrame(data)\n",
    "df"
   ]
  },
  {
   "cell_type": "markdown",
   "metadata": {},
   "source": [
    "1. For the given dataframe `df`, calculate the median score for each subject (Math, Science, English, History, and Art)."
   ]
  },
  {
   "cell_type": "code",
   "execution_count": 36,
   "metadata": {},
   "outputs": [
    {
     "name": "stdout",
     "output_type": "stream",
     "text": [
      "Math       86.5\n",
      "Science    87.5\n",
      "English    87.0\n",
      "History    87.5\n",
      "Art        87.5\n",
      "dtype: float64\n"
     ]
    }
   ],
   "source": [
    "# Task 1: Your solution here...\n",
    "\n",
    "median_score = df.loc[: , df.columns != \"Student\"].median()\n",
    "\n",
    "print(median_score)"
   ]
  },
  {
   "cell_type": "markdown",
   "metadata": {},
   "source": [
    "2. Create a new dataframe `df_good_in_math` that contains only the students who have scored greater than 85 in Math."
   ]
  },
  {
   "cell_type": "code",
   "execution_count": 38,
   "metadata": {},
   "outputs": [
    {
     "name": "stdout",
     "output_type": "stream",
     "text": [
      "  Student  Math  Science  English  History  Art\n",
      "1     Bob    90       85       92       88   79\n",
      "3   David    88       94       91       91   87\n",
      "4     Eve    92       88       93       95   90\n",
      "7   Helen    95       92       89       87   85\n",
      "8     Ian    89       90       86       88   83\n"
     ]
    }
   ],
   "source": [
    "# Task 2: Your solution here...\n",
    "\n",
    "df_good_in_math = df[df[\"Math\"] > 85]\n",
    "\n",
    "print(df_good_in_math)\n"
   ]
  },
  {
   "cell_type": "markdown",
   "metadata": {},
   "source": [
    "3. In the given dataframe `df`, add new column `total` that calculates the total score for each student (sum of scores in all subjects) and print the name of the student with the highest total score."
   ]
  },
  {
   "cell_type": "code",
   "execution_count": 48,
   "metadata": {},
   "outputs": [
    {
     "name": "stdout",
     "output_type": "stream",
     "text": [
      "The student with the highest total score is: Eve\n"
     ]
    }
   ],
   "source": [
    "# Task 3: Your solution here...\n",
    "\n",
    "\n",
    "df['total'] = df.loc[:, df.columns != \"Student\"].sum(axis=1)\n",
    "\n",
    "top_student = df.loc[df['total'].idxmax(), \"Student\"]\n",
    "\n",
    "print(f\"The student with the highest total score is: {top_student}\")"
   ]
  },
  {
   "cell_type": "markdown",
   "metadata": {},
   "source": [
    "4. Write a function that calculates and returns the correlation coefficient between the `Math` and `Science` scores. Explain the correlation score."
   ]
  },
  {
   "cell_type": "code",
   "execution_count": 60,
   "metadata": {},
   "outputs": [
    {
     "name": "stdout",
     "output_type": "stream",
     "text": [
      "The correlation coefficient between Math and Science scores is: 0.7317736806520041\n"
     ]
    }
   ],
   "source": [
    "# Task 4: Your solution here...\n",
    "\n",
    "def calculate_correlation(df, column1, column2):\n",
    "    return df['Math'].corr(df['Science'])\n",
    "\n",
    "correlation = calculate_correlation(df, 'Math', 'Science')\n",
    "\n",
    "print(f\"The correlation coefficient between Math and Science scores is: {correlation}\")\n",
    "\n",
    "# Correlation explanation: ..."
   ]
  },
  {
   "cell_type": "markdown",
   "metadata": {},
   "source": [
    "##### Data visualization - Matplotlib"
   ]
  },
  {
   "cell_type": "markdown",
   "metadata": {},
   "source": [
    "1. Use visualization method to inspect distribution of scores for subject `English`"
   ]
  },
  {
   "cell_type": "code",
   "execution_count": 64,
   "metadata": {},
   "outputs": [
    {
     "data": {
      "image/png": "[encoded data removed]",
      "text/plain": [
       "<Figure size 640x480 with 1 Axes>"
      ]
     },
     "metadata": {},
     "output_type": "display_data"
    }
   ],
   "source": [
    "# Task 1: Your solution here...\n",
    "\n",
    "import matplotlib.pyplot as plt \n",
    "\n",
    "plt.hist(x=df['English'], bins=, color='blue', edgecolor = 'black') \n",
    "plt.xlabel('English')\n",
    "plt.ylabel('Frequency')\n",
    "plt.title('Distribution of English scores')\n",
    "plt.show()"
   ]
  },
  {
   "cell_type": "markdown",
   "metadata": {},
   "source": [
    "2. Create a stacked bar chart to show the breakdown of scores for each student, where each bar represents the total score for a student, and each segment of the bar represents the score in a specific subject."
   ]
  },
  {
   "cell_type": "code",
   "execution_count": null,
   "metadata": {},
   "outputs": [],
   "source": [
    "# Task 2: Your solution here...\n",
    "\n",
    "\n"
   ]
  },
  {
   "cell_type": "markdown",
   "metadata": {},
   "source": [
    "3. Use visualizaton methods of your choice to compare scores for all subjects between students `Charlie` and `Helen`"
   ]
  },
  {
   "cell_type": "code",
   "execution_count": null,
   "metadata": {},
   "outputs": [],
   "source": [
    "# Task 3: Your solution here..."
   ]
  }
 ],
 "metadata": {
  "kernelspec": {
   "display_name": "Python 3 (ipykernel)",
   "language": "python",
   "name": "python3"
  },
  "language_info": {
   "codemirror_mode": {
    "name": "ipython",
    "version": 3
   },
   "file_extension": ".py",
   "mimetype": "text/x-python",
   "name": "python",
   "nbconvert_exporter": "python",
   "pygments_lexer": "ipython3",
   "version": "3.12.4"
  }
 },
 "nbformat": 4,
 "nbformat_minor": 4
}
